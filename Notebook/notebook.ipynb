{
 "cells": [
  {
   "cell_type": "markdown",
   "id": "7bc38325",
   "metadata": {},
   "source": [
    "# Understanding the concept :-"
   ]
  },
  {
   "cell_type": "markdown",
   "id": "32e787bd",
   "metadata": {},
   "source": [
    "## 1. **torch.pad()**"
   ]
  },
  {
   "cell_type": "code",
   "execution_count": null,
   "id": "b723109a",
   "metadata": {},
   "outputs": [
    {
     "data": {
      "text/plain": [
       "torch.Size([2, 3, 256, 258])"
      ]
     },
     "execution_count": 27,
     "metadata": {},
     "output_type": "execute_result"
    }
   ],
   "source": [
    "import torch \n",
    "from torch.nn.functional import pad as Padding \n",
    "\n",
    "tensor = torch.randn(2, 3, 256, 256)\n",
    "\n",
    "# padding last (width) dim by 1 on each side \n",
    "# (1, 1) = (1 + 1)\n",
    "# 256 + (1, 1) => 258\n",
    "pad1 = (1, 1)\n",
    "\n",
    "output = Padding(input=tensor,\n",
    "                pad=pad1,\n",
    "                mode='constant',\n",
    "                value=0)\n",
    "\n",
    "\n",
    "output.shape"
   ]
  },
  {
   "cell_type": "code",
   "execution_count": null,
   "id": "7b672904",
   "metadata": {},
   "outputs": [
    {
     "data": {
      "text/plain": [
       "torch.Size([2, 3, 258, 258])"
      ]
     },
     "execution_count": 28,
     "metadata": {},
     "output_type": "execute_result"
    }
   ],
   "source": [
    "import torch \n",
    "from torch.nn.functional import pad as Padding \n",
    "\n",
    "tensor = torch.randn(2, 3, 256, 256)\n",
    "\n",
    "# padding last (heigh, width) dim by 1 on each side \n",
    "pad1 = (1, 1, 1, 1)\n",
    "\n",
    "output = Padding(input=tensor,\n",
    "                pad=pad1,\n",
    "                mode='constant',\n",
    "                )\n",
    "\n",
    "\n",
    "output.shape"
   ]
  },
  {
   "cell_type": "code",
   "execution_count": 31,
   "id": "08ba7c4f",
   "metadata": {},
   "outputs": [
    {
     "data": {
      "text/plain": [
       "torch.Size([2, 3, 10, 258, 258])"
      ]
     },
     "execution_count": 31,
     "metadata": {},
     "output_type": "execute_result"
    }
   ],
   "source": [
    "import torch \n",
    "from torch.nn.functional import pad as Padding \n",
    "\n",
    "tensor = torch.randn(2, 3, 8, 256, 256)\n",
    "\n",
    "# padding last (frame, heigh, width) dim by 1 on each side \n",
    "pad1 = (1, 1, 1, 1, 1, 1)\n",
    "\n",
    "output = Padding(input=tensor,\n",
    "                pad=pad1,\n",
    "                mode='constant',\n",
    "                )\n",
    "\n",
    "\n",
    "output.shape"
   ]
  },
  {
   "cell_type": "code",
   "execution_count": 33,
   "id": "8f80d09a",
   "metadata": {},
   "outputs": [
    {
     "data": {
      "text/plain": [
       "torch.Size([2, 5, 10, 258, 258])"
      ]
     },
     "execution_count": 33,
     "metadata": {},
     "output_type": "execute_result"
    }
   ],
   "source": [
    "import torch \n",
    "from torch.nn.functional import pad as Padding \n",
    "\n",
    "tensor = torch.randn(2, 3, 8, 256, 256)\n",
    "\n",
    "# padding last (channels, frame, heigh, width) dim by 1 on each side \n",
    "pad1 = (1, 1, 1, 1, 1, 1, 1, 1)\n",
    "\n",
    "output = Padding(input=tensor,\n",
    "                pad=pad1,\n",
    "                mode='constant',\n",
    "                )\n",
    "\n",
    "\n",
    "output.shape"
   ]
  },
  {
   "cell_type": "code",
   "execution_count": 35,
   "id": "c433b5d5",
   "metadata": {},
   "outputs": [
    {
     "data": {
      "text/plain": [
       "torch.Size([4, 5, 10, 258, 258])"
      ]
     },
     "execution_count": 35,
     "metadata": {},
     "output_type": "execute_result"
    }
   ],
   "source": [
    "import torch \n",
    "from torch.nn.functional import pad as Padding \n",
    "\n",
    "tensor = torch.randn(2, 3, 8, 256, 256)\n",
    "\n",
    "# padding last (batch_size, channels, frame, heigh, width) dim by 1 on each side \n",
    "pad1 = (1, 1, 1, 1, 1, 1, 1, 1, 1, 1)\n",
    "\n",
    "output = Padding(input=tensor,\n",
    "                pad=pad1,\n",
    "                mode='constant',\n",
    "                )\n",
    "\n",
    "\n",
    "output.shape"
   ]
  },
  {
   "cell_type": "markdown",
   "id": "bae597dd",
   "metadata": {},
   "source": [
    "# 2. torch.AvgPool3d()"
   ]
  },
  {
   "cell_type": "code",
   "execution_count": 2,
   "id": "f5dda011",
   "metadata": {},
   "outputs": [
    {
     "data": {
      "text/plain": [
       "torch.Size([2, 3, 6, 254, 254])"
      ]
     },
     "execution_count": 2,
     "metadata": {},
     "output_type": "execute_result"
    }
   ],
   "source": [
    "import torch \n",
    "from torch import nn \n",
    "\n",
    "avg_pool = nn.AvgPool3d(kernel_size=3,\n",
    "                        stride=1)\n",
    "\n",
    "x = torch.randn(2, 3, 8, 256, 256)\n",
    "\n",
    "\n",
    "# frame =  [D_in + 2 * padding[0] - kernel_size[0] / stride[0]] + 1\n",
    "# height =  [h_in + 2 * padding[1] - kernel_size[1] / stride[1]] + 1\n",
    "# width =  [h_in + 2 * padding[2] - kernel_size[2] / stride[2]] + 1\n",
    "\n",
    "avg_pool = avg_pool(x)\n",
    "avg_pool.shape"
   ]
  },
  {
   "cell_type": "markdown",
   "id": "9529b39a",
   "metadata": {},
   "source": [
    "**Depth Dimension CALCULATION**: \n",
    "```D_in = 8 \n",
    "padding = [0, 0, 0]\n",
    "kernel_size = [3, 3, 3]\n",
    "stride = [1, 1, 1]\n",
    "\n",
    "frame = D_in + 2 * padding[0] - kernel_size[0] / stride[0]\n",
    "frame = frame + 1 \n",
    "frame```"
   ]
  },
  {
   "cell_type": "code",
   "execution_count": 6,
   "id": "1c249a73",
   "metadata": {},
   "outputs": [
    {
     "data": {
      "text/plain": [
       "torch.Size([2, 3, 6, 254, 254])"
      ]
     },
     "execution_count": 6,
     "metadata": {},
     "output_type": "execute_result"
    }
   ],
   "source": [
    "import torch \n",
    "\n",
    "conv = torch.nn.Conv3d(in_channels=3,\n",
    "                       out_channels=3,\n",
    "                       kernel_size=3,\n",
    "                       stride=1,\n",
    "                       padding=0)\n",
    "\n",
    "x = torch.randn(2, 3, 8, 256, 256)\n",
    "\n",
    "output = conv(x)\n",
    "output.shape"
   ]
  },
  {
   "cell_type": "code",
   "execution_count": null,
   "id": "36560172",
   "metadata": {},
   "outputs": [],
   "source": []
  }
 ],
 "metadata": {
  "kernelspec": {
   "display_name": "cuda121",
   "language": "python",
   "name": "python3"
  },
  "language_info": {
   "codemirror_mode": {
    "name": "ipython",
    "version": 3
   },
   "file_extension": ".py",
   "mimetype": "text/x-python",
   "name": "python",
   "nbconvert_exporter": "python",
   "pygments_lexer": "ipython3",
   "version": "3.10.16"
  }
 },
 "nbformat": 4,
 "nbformat_minor": 5
}
